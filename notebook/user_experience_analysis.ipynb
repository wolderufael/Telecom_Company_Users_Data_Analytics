{
 "cells": [
  {
   "cell_type": "markdown",
   "metadata": {},
   "source": [
    "# User Experience Analysis"
   ]
  },
  {
   "cell_type": "code",
   "execution_count": 1,
   "metadata": {},
   "outputs": [],
   "source": [
    "import os\n",
    "notebook_dir = os.getcwd()\n",
    "parent_path=os.path.dirname(notebook_dir)\n",
    "\n",
    "os.chdir(parent_path)"
   ]
  },
  {
   "cell_type": "code",
   "execution_count": 2,
   "metadata": {},
   "outputs": [],
   "source": [
    "from script.connection import Connector"
   ]
  },
  {
   "cell_type": "code",
   "execution_count": 3,
   "metadata": {},
   "outputs": [],
   "source": [
    "# instance of the class\n",
    "connector=Connector()"
   ]
  },
  {
   "cell_type": "code",
   "execution_count": 5,
   "metadata": {},
   "outputs": [
    {
     "name": "stdout",
     "output_type": "stream",
     "text": [
      "SQLAlchemy connection is disposed\n"
     ]
    }
   ],
   "source": [
    "xdr_data=connector.load_table_to_dataframe('xdr_data_cleaned')"
   ]
  },
  {
   "cell_type": "code",
   "execution_count": 7,
   "metadata": {},
   "outputs": [
    {
     "data": {
      "text/plain": [
       "Index(['Bearer Id', 'Start', 'Start ms', 'End', 'End ms', 'Dur. (ms)', 'IMSI',\n",
       "       'MSISDN/Number', 'IMEI', 'Last Location Name', 'Avg RTT DL (ms)',\n",
       "       'Avg RTT UL (ms)', 'Avg Bearer TP DL (kbps)', 'Avg Bearer TP UL (kbps)',\n",
       "       'TCP DL Retrans. Vol (Bytes)', 'TCP UL Retrans. Vol (Bytes)',\n",
       "       'DL TP < 50 Kbps (%)', '50 Kbps < DL TP < 250 Kbps (%)',\n",
       "       '250 Kbps < DL TP < 1 Mbps (%)', 'DL TP > 1 Mbps (%)',\n",
       "       'UL TP < 10 Kbps (%)', '10 Kbps < UL TP < 50 Kbps (%)',\n",
       "       '50 Kbps < UL TP < 300 Kbps (%)', 'UL TP > 300 Kbps (%)',\n",
       "       'Activity Duration DL (ms)', 'Activity Duration UL (ms)', 'Dur. (ms).1',\n",
       "       'Handset Manufacturer', 'Handset Type', 'Nb of sec with Vol DL < 6250B',\n",
       "       'Nb of sec with Vol UL < 1250B', 'Social Media DL (Bytes)',\n",
       "       'Social Media UL (Bytes)', 'Google DL (Bytes)', 'Google UL (Bytes)',\n",
       "       'Email DL (Bytes)', 'Email UL (Bytes)', 'Youtube DL (Bytes)',\n",
       "       'Youtube UL (Bytes)', 'Netflix DL (Bytes)', 'Netflix UL (Bytes)',\n",
       "       'Gaming DL (Bytes)', 'Gaming UL (Bytes)', 'Other DL (Bytes)',\n",
       "       'Other UL (Bytes)', 'Total UL (Bytes)', 'Total DL (Bytes)'],\n",
       "      dtype='object')"
      ]
     },
     "execution_count": 7,
     "metadata": {},
     "output_type": "execute_result"
    }
   ],
   "source": [
    "xdr_data.columns"
   ]
  },
  {
   "cell_type": "code",
   "execution_count": 5,
   "metadata": {},
   "outputs": [],
   "source": [
    "from script.user_experince_analyzer import ExperienceAnalyzer"
   ]
  },
  {
   "cell_type": "code",
   "execution_count": 6,
   "metadata": {},
   "outputs": [],
   "source": [
    "analyzer= ExperienceAnalyzer()"
   ]
  },
  {
   "cell_type": "markdown",
   "metadata": {},
   "source": [
    "### User Data Aggregate"
   ]
  },
  {
   "cell_type": "code",
   "execution_count": 7,
   "metadata": {},
   "outputs": [
    {
     "name": "stdout",
     "output_type": "stream",
     "text": [
      "   MSISDN/Number  Avg Bearer TP DL (kbps)  Avg RTT DL (ms)  Avg RTT UL (ms)  \\\n",
      "0   3.360100e+10                     37.0        46.000000         0.000000   \n",
      "1   3.360100e+10                     48.0        30.000000         1.000000   \n",
      "2   3.360100e+10                     48.0        78.317083        12.866779   \n",
      "3   3.360101e+10                    204.0        69.000000        15.000000   \n",
      "4   3.360101e+10                  20197.5        57.000000         2.500000   \n",
      "\n",
      "                     Handset Type  \n",
      "0  Huawei P20 Lite Huawei Nova 3E  \n",
      "1          Apple iPhone 7 (A1778)  \n",
      "2                       undefined  \n",
      "3         Apple iPhone 5S (A1457)  \n",
      "4         Apple iPhone Se (A1723)  \n"
     ]
    }
   ],
   "source": [
    "analyzer.user_aggregate(xdr_data)"
   ]
  },
  {
   "cell_type": "markdown",
   "metadata": {},
   "source": [
    "# 10 of the top, bottom, and most frequent"
   ]
  }
 ],
 "metadata": {
  "kernelspec": {
   "display_name": ".venv",
   "language": "python",
   "name": "python3"
  },
  "language_info": {
   "codemirror_mode": {
    "name": "ipython",
    "version": 3
   },
   "file_extension": ".py",
   "mimetype": "text/x-python",
   "name": "python",
   "nbconvert_exporter": "python",
   "pygments_lexer": "ipython3",
   "version": "3.12.5"
  }
 },
 "nbformat": 4,
 "nbformat_minor": 2
}
